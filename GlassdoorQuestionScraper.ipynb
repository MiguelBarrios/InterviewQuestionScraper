{
 "cells": [
  {
   "cell_type": "code",
   "execution_count": 3,
   "id": "3ffb5e3f",
   "metadata": {},
   "outputs": [],
   "source": [
    "from bs4 import BeautifulSoup\n",
    "import requests\n",
    "import re\n",
    "import io\n",
    "\n",
    "def app(initial_url, output_file_name):\n",
    "    base_url = 'https://www.glassdoor.com';\n",
    "    QUESTIONS = set()\n",
    "    visited = set()\n",
    "    links = [initial_url]\n",
    "    while len(links) > 0:\n",
    "        current_url = links.pop()\n",
    "        response = requests.get(current_url)\n",
    "        html = response.content\n",
    "        soup =  BeautifulSoup(html, 'html.parser')\n",
    "        questions = scrape_page_questions(soup);\n",
    "        QUESTIONS.update(questions)\n",
    "        urls = get_next_page_urls(soup)\n",
    "        for url in urls:\n",
    "            if url not in visited:\n",
    "                visited.add(url)\n",
    "                links.append(base_url + url)\n",
    "    write_to_file(QUESTIONS, output_file_name)\n",
    "\n",
    "def scrape_page_questions(soup):\n",
    "    interview_question_containers = soup.find_all(attrs={\"data-test\": re.compile(\"Interview.*Questions\")})\n",
    "    questions = [container.find('span').text for container in interview_question_containers]\n",
    "    return questions\n",
    "\n",
    "def get_next_page_urls(soup):\n",
    "    link_containers = soup.find_all(attrs={\"data-test\": re.compile(\"pagination-link-\")})\n",
    "    links = [a['href'] for a in link_containers]\n",
    "    return links\n",
    "\n",
    "def write_to_file(data, output_file_name):\n",
    "    with open(output_file_name, 'w') as f:\n",
    "        f.writelines(line + '\\n\\n' for line in data)"
   ]
  },
  {
   "cell_type": "code",
   "execution_count": 4,
   "id": "7b2aadae",
   "metadata": {},
   "outputs": [],
   "source": [
    "initial_url = 'https://www.glassdoor.com/Interview/Paycom-Software-Developer-Interview-Questions-EI_IE136736.0,6_KO7,25.htm'\n",
    "output_file_name = 'paycom.txt'\n",
    "app(initial_url, output_file_name)"
   ]
  },
  {
   "cell_type": "code",
   "execution_count": null,
   "id": "1437c022",
   "metadata": {},
   "outputs": [],
   "source": []
  }
 ],
 "metadata": {
  "kernelspec": {
   "display_name": "Python 3 (ipykernel)",
   "language": "python",
   "name": "python3"
  },
  "language_info": {
   "codemirror_mode": {
    "name": "ipython",
    "version": 3
   },
   "file_extension": ".py",
   "mimetype": "text/x-python",
   "name": "python",
   "nbconvert_exporter": "python",
   "pygments_lexer": "ipython3",
   "version": "3.9.13"
  }
 },
 "nbformat": 4,
 "nbformat_minor": 5
}
